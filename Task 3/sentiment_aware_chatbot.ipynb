{
  "nbformat": 4,
  "nbformat_minor": 0,
  "metadata": {
    "colab": {
      "provenance": []
    },
    "kernelspec": {
      "name": "python3",
      "display_name": "Python 3"
    },
    "language_info": {
      "name": "python"
    }
  },
  "cells": [
    {
      "cell_type": "code",
      "execution_count": null,
      "metadata": {
        "id": "NIHjpxdIs0Kj"
      },
      "outputs": [],
      "source": [
        "# Install transformers if not already installed\n",
        "!pip install transformers\n",
        "\n",
        "from transformers import pipeline\n"
      ]
    },
    {
      "cell_type": "code",
      "source": [
        "# Load the sentiment analysis model\n",
        "sentiment_pipeline = pipeline(\"sentiment-analysis\")\n"
      ],
      "metadata": {
        "id": "ZPwF_LM1tMpj"
      },
      "execution_count": null,
      "outputs": []
    },
    {
      "cell_type": "code",
      "source": [
        "# Generate chatbot responses based on detected sentiment\n",
        "def generate_response(user_input):\n",
        "    result = sentiment_pipeline(user_input)[0]\n",
        "    sentiment = result['label']\n",
        "    confidence = round(result['score'] * 100, 2)\n",
        "\n",
        "    if sentiment == \"POSITIVE\":\n",
        "        return f\"😊 I'm really glad to hear that! (Confidence: {confidence}%) Is there anything else I can help with?\"\n",
        "    elif sentiment == \"NEGATIVE\":\n",
        "        return f\"🙁 I'm sorry to hear that. (Confidence: {confidence}%) Let’s work on making this better for you.\"\n",
        "    else:\n",
        "        return f\"😐 Got it. (Confidence: {confidence}%) Let me know how I can assist further.\"\n"
      ],
      "metadata": {
        "id": "hl_X1gkWtPxS"
      },
      "execution_count": null,
      "outputs": []
    },
    {
      "cell_type": "code",
      "source": [
        "# Example: Single input\n",
        "user_input = input(\"You: \")\n",
        "response = generate_response(user_input)\n",
        "print(\"Chatbot:\", response)\n"
      ],
      "metadata": {
        "id": "WkSx3Zc5tTyF"
      },
      "execution_count": null,
      "outputs": []
    },
    {
      "cell_type": "code",
      "source": [],
      "metadata": {
        "id": "_h93xVSztWTc"
      },
      "execution_count": null,
      "outputs": []
    }
  ]
}