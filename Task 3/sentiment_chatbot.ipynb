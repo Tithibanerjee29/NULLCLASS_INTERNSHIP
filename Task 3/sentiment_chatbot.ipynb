{
 "cells": [
  {
   "cell_type": "markdown",
   "id": "ac526472",
   "metadata": {},
   "source": [
    "# Sentiment-Aware Chatbot in Jupyter Notebook\n"
   ]
  },
  {
   "cell_type": "markdown",
   "id": "754ca166",
   "metadata": {},
   "source": [
    "\n",
    "## 💡 Overview:\n",
    "This notebook implements a **Sentiment-Aware Chatbot** using HuggingFace’s Transformers library.  \n",
    "The chatbot detects **positive**, **negative**, or **neutral** sentiments in user messages and responds accordingly.\n",
    "\n",
    "## 🧠 Objective:\n",
    "- Integrate sentiment analysis to enhance chatbot responses.\n",
    "- Improve user satisfaction with emotion-aware interaction.\n",
    "\n",
    "### Expected Outcome:\n",
    "A chatbot that detects and addresses different customer emotions effectively.\n"
   ]
  },
  {
   "cell_type": "code",
   "execution_count": null,
   "id": "65e98c6c",
   "metadata": {},
   "outputs": [],
   "source": [
    "!pip install transformers"
   ]
  },
  {
   "cell_type": "code",
   "execution_count": null,
   "id": "7fbc0d38",
   "metadata": {},
   "outputs": [],
   "source": [
    "\n",
    "from transformers import pipeline\n",
    "\n",
    "# Load HuggingFace sentiment analysis pipeline\n",
    "sentiment_pipeline = pipeline(\"sentiment-analysis\")\n"
   ]
  },
  {
   "cell_type": "code",
   "execution_count": null,
   "id": "83389c5b",
   "metadata": {},
   "outputs": [],
   "source": [
    "\n",
    "def generate_response(user_input):\n",
    "    result = sentiment_pipeline(user_input)[0]\n",
    "    sentiment = result['label']\n",
    "    confidence = round(result['score'] * 100, 2)\n",
    "\n",
    "    if sentiment == \"POSITIVE\":\n",
    "        return f\"😊 I'm really glad to hear that! (Confidence: {confidence}%) Is there anything else I can help with?\"\n",
    "    elif sentiment == \"NEGATIVE\":\n",
    "        return f\"🙁 I'm sorry to hear that. (Confidence: {confidence}%) Let’s work on making this better for you.\"\n",
    "    else:\n",
    "        return f\"😐 Got it. (Confidence: {confidence}%) Let me know how I can assist further.\"\n"
   ]
  },
  {
   "cell_type": "code",
   "execution_count": null,
   "id": "810a9fdb",
   "metadata": {},
   "outputs": [],
   "source": [
    "\n",
    "# Test different inputs\n",
    "user_input = \"I'm very disappointed with the service.\"\n",
    "print(\"You:\", user_input)\n",
    "print(\"Chatbot:\", generate_response(user_input))\n"
   ]
  },
  {
   "cell_type": "code",
   "execution_count": null,
   "id": "10d4ef08",
   "metadata": {},
   "outputs": [],
   "source": [
    "\n",
    "# Batch Test for Evaluation\n",
    "sample_inputs = [\n",
    "    \"I love this product!\",\n",
    "    \"This is the worst experience ever.\",\n",
    "    \"It's okay, not too bad.\",\n",
    "    \"Your support team is very helpful.\",\n",
    "    \"Why does this keep crashing?\"\n",
    "]\n",
    "\n",
    "for message in sample_inputs:\n",
    "    print(\"\n",
    "You:\", message)\n",
    "    print(\"Chatbot:\", generate_response(message))\n"
   ]
  },
  {
   "cell_type": "markdown",
   "id": "b0e85bc3",
   "metadata": {},
   "source": [
    "\n",
    "## ✅ Evaluation\n",
    "\n",
    "- **Model Used**: distilbert-base-uncased-finetuned-sst-2-english\n",
    "- **Accuracy**: Pre-trained model > 90%\n",
    "- **Precision / Recall**: High for both positive & negative\n",
    "- **Appropriate Response**: Based on sentiment prediction\n",
    "- **Impact**: Responds empathetically to improve user satisfaction\n"
   ]
  },
  {
   "cell_type": "markdown",
   "id": "070b6274",
   "metadata": {},
   "source": [
    "\n",
    "## 📑 Submission Details\n",
    "\n",
    "- **Student**: Tithi Banerjee  \n",
    "- **Company**: REDIENT SECURITY  \n",
    "- **Task**: Sentiment-Aware Chatbot  \n",
    "- **Date**: April 2025  \n",
    "- **Email**: Tithi@redientsecurity.com\n"
   ]
  }
 ],
 "metadata": {},
 "nbformat": 4,
 "nbformat_minor": 5
}
