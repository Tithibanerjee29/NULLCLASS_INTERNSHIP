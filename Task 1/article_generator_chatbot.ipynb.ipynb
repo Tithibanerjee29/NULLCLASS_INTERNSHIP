{
 "cells": [
  {
   "cell_type": "code",
   "execution_count": null,
   "metadata": {},
   "outputs": [
    {
     "name": "stdout",
     "output_type": "stream",
     "text": [
      "Error: The 'transformers' module is not installed. Please install it using 'pip install transformers'\n",
      "Exiting due to missing dependencies.\n",
      "Welcome to the Article Generator Chatbot!\n",
      "Enter a topic for the article (or type 'exit' to quit):\n"
     ]
    }
   ],
   "source": [
    "import sys\n",
    "\n",
    "try:\n",
    "    from transformers import pipeline\n",
    "except ModuleNotFoundError:\n",
    "    print(\"Error: The 'transformers' module is not installed. Please install it using 'pip install transformers'\")\n",
    "    def chatbot():\n",
    "        print(\"Exiting due to missing dependencies.\")\n",
    "        return\n",
    "    \n",
    "    def generate_article(prompt, model_name):\n",
    "        return \"\"\n",
    "    \n",
    "    if __name__ == \"__main__\":\n",
    "        chatbot()\n",
    "    \n",
    "# Available models (ensure these are downloaded or accessible via API)\n",
    "models = {\n",
    "    \"Llama\": \"meta-llama/Llama-3.1-8B\",\n",
    "    \"BLOOM\": \"bigscience/bloom-7b1\",\n",
    "    \"Falcon\": \"tiiuae/falcon-7b\"\n",
    "}\n",
    "\n",
    "def generate_article(prompt, model_name):\n",
    "    try:\n",
    "        generator = pipeline(\"text-generation\", model=model_name)\n",
    "        response = generator(prompt, max_length=512, num_return_sequences=1)\n",
    "        return response[0]['generated_text']\n",
    "    except Exception as e:\n",
    "        return f\"Error generating text: {str(e)}\"\n",
    "\n",
    "def chatbot():\n",
    "    print(\"Welcome to the Article Generator Chatbot!\")\n",
    "    \n",
    "    try:\n",
    "        while True:\n",
    "            print(\"Enter a topic for the article (or type 'exit' to quit):\")\n",
    "            try:\n",
    "                prompt = sys.stdin.readline().strip()\n",
    "            except ValueError:\n",
    "                print(\"Error: Unable to read input. Exiting chatbot.\")\n",
    "                return\n",
    "            \n",
    "            if not prompt or prompt.lower() == \"exit\":\n",
    "                return\n",
    "            \n",
    "            print(\"Select a model: 1) Llama 3.1  2) BLOOM  3) Falcon 180B\")\n",
    "            print(\"Enter model number:\")\n",
    "            \n",
    "            try:\n",
    "                choice = sys.stdin.readline().strip()\n",
    "            except ValueError:\n",
    "                print(\"Error: Unable to read input. Exiting chatbot.\")\n",
    "                return\n",
    "            \n",
    "            model_key = {\"1\": \"Llama\", \"2\": \"BLOOM\", \"3\": \"Falcon\"}.get(choice)\n",
    "            if not model_key:\n",
    "                print(\"Invalid choice. Try again.\")\n",
    "                continue\n",
    "            \n",
    "            model_name = models[model_key]\n",
    "            article = generate_article(prompt, model_name)\n",
    "            print(\"\\nGenerated Article:\")\n",
    "            print(article)\n",
    "    except ValueError:\n",
    "        print(\"I/O error encountered. Please ensure input is supported in this environment.\")\n",
    "\n",
    "if __name__ == \"__main__\":\n",
    "    chatbot()\n"
   ]
  }
 ],
 "metadata": {
  "kernelspec": {
   "display_name": "Python 3",
   "language": "python",
   "name": "python3"
  },
  "language_info": {
   "codemirror_mode": {
    "name": "ipython",
    "version": 3
   },
   "file_extension": ".py",
   "mimetype": "text/x-python",
   "name": "python",
   "nbconvert_exporter": "python",
   "pygments_lexer": "ipython3",
   "version": "3.13.2"
  }
 },
 "nbformat": 4,
 "nbformat_minor": 2
}
