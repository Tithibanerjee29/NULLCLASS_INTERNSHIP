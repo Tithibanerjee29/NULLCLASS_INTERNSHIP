from pathlib import Path
from nbformat import v4 as nbf

# Define the code cells
cells = []

# Cell 1: Install transformers
cells.append(nbf.new_code_cell("""!pip install transformers"""))

# Cell 2: Import and model setup
cells.append(nbf.new_code_cell("""
from transformers import pipeline

# Available open-source models
models = {
    "GPT2": "gpt2",
    "DistilGPT2": "distilgpt2",
    "GPTNeo": "EleutherAI/gpt-neo-125M"
}
"""))

# Cell 3: Generate article function
cells.append(nbf.new_code_cell("""
def generate_article(prompt, model_name):
    \"\"\"
    Generates an article based on the prompt and model.
    \"\"\"
    try:
        generator = pipeline("text-generation", model=model_name)
        result = generator(prompt, max_length=300, num_return_sequences=1)
        return result[0]['generated_text']
    except Exception as e:
        return f"❌ Error: {str(e)}"
"""))

# Cell 4: Chatbot function
cells.append(nbf.new_code_cell("""
def chatbot():
    \"\"\"
    Interactive chatbot interface for article generation.
    \"\"\"
    print("🤖 Welcome to the Article Generator Chatbot!")
    
    while True:
        prompt = input("📌 Enter a topic for the article (or type 'exit' to quit): ").strip()
        if prompt.lower() == "exit":
            print("👋 Exiting chatbot.")
            break
        
        print("\\nSelect a model:")
        for i, name in enumerate(models.keys(), 1):
            print(f"{i}) {name}")
        
        choice = input("Enter model number: ").strip()
        model_keys = list(models.keys())
        
        if not choice.isdigit() or int(choice) not in range(1, len(model_keys)+1):
            print("❗ Invalid choice. Try again.\\n")
            continue
        
        selected_model = model_keys[int(choice)-1]
        model_id = models[selected_model]
        
        print(f"\\n🧠 Generating article using {selected_model}...\\n")
        article = generate_article(prompt, model_id)
        print(f"\\n📝 Generated Article:\\n{'-'*50}\\n{article}\\n{'-'*50}\\n")
"""))

# Cell 5: Run chatbot
cells.append(nbf.new_code_cell("""chatbot()"""))


