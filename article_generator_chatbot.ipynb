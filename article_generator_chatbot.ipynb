{
  "nbformat": 4,
  "nbformat_minor": 0,
  "metadata": {
    "colab": {
      "provenance": [],
      "authorship_tag": "ABX9TyNJ95u5eRtADSBWu5Fr5zRc",
      "include_colab_link": true
    },
    "kernelspec": {
      "name": "python3",
      "display_name": "Python 3"
    },
    "language_info": {
      "name": "python"
    }
  },
  "cells": [
    {
      "cell_type": "markdown",
      "metadata": {
        "id": "view-in-github",
        "colab_type": "text"
      },
      "source": [
        "<a href=\"https://colab.research.google.com/github/Tithibanerjee29/NULLCLASS_INTERNSHIP/blob/master/article_generator_chatbot.ipynb\" target=\"_parent\"><img src=\"https://colab.research.google.com/assets/colab-badge.svg\" alt=\"Open In Colab\"/></a>"
      ]
    },
    {
      "cell_type": "code",
      "execution_count": null,
      "metadata": {
        "id": "p0aqgQnNqfea"
      },
      "outputs": [],
      "source": [
        "!pip install transformers\n"
      ]
    },
    {
      "cell_type": "code",
      "source": [
        "from transformers import pipeline\n",
        "\n",
        "# Available open-source models\n",
        "models = {\n",
        "    \"GPT2\": \"gpt2\",\n",
        "    \"DistilGPT2\": \"distilgpt2\",\n",
        "    \"GPTNeo\": \"EleutherAI/gpt-neo-125M\"\n",
        "}\n"
      ],
      "metadata": {
        "id": "toM1OersqlwJ"
      },
      "execution_count": null,
      "outputs": []
    },
    {
      "cell_type": "code",
      "source": [
        "def generate_article(prompt, model_name):\n",
        "    \"\"\"\n",
        "    Generates an article based on the prompt and model.\n",
        "    \"\"\"\n",
        "    try:\n",
        "        generator = pipeline(\"text-generation\", model=model_name)\n",
        "        result = generator(prompt, max_length=300, num_return_sequences=1)\n",
        "        return result[0]['generated_text']\n",
        "    except Exception as e:\n",
        "        return f\"❌ Error: {str(e)}\"\n"
      ],
      "metadata": {
        "id": "Tw936DCuqoNa"
      },
      "execution_count": null,
      "outputs": []
    },
    {
      "cell_type": "code",
      "source": [
        "def chatbot():\n",
        "    \"\"\"\n",
        "    Interactive chatbot interface for article generation.\n",
        "    \"\"\"\n",
        "    print(\"🤖 Welcome to the Article Generator Chatbot!\")\n",
        "\n",
        "    while True:\n",
        "        prompt = input(\"📌 Enter a topic for the article (or type 'exit' to quit): \").strip()\n",
        "        if prompt.lower() == \"exit\":\n",
        "            print(\"👋 Exiting chatbot.\")\n",
        "            break\n",
        "\n",
        "        print(\"\\nSelect a model:\")\n",
        "        for i, name in enumerate(models.keys(), 1):\n",
        "            print(f\"{i}) {name}\")\n",
        "\n",
        "        choice = input(\"Enter model number: \").strip()\n",
        "        model_keys = list(models.keys())\n",
        "\n",
        "        if not choice.isdigit() or int(choice) not in range(1, len(model_keys)+1):\n",
        "            print(\"❗ Invalid choice. Try again.\\n\")\n",
        "            continue\n",
        "\n",
        "        selected_model = model_keys[int(choice)-1]\n",
        "        model_id = models[selected_model]\n",
        "\n",
        "        print(f\"\\n🧠 Generating article using {selected_model}...\\n\")\n",
        "        article = generate_article(prompt, model_id)\n",
        "        print(f\"\\n📝 Generated Article:\\n{'-'*50}\\n{article}\\n{'-'*50}\\n\")\n"
      ],
      "metadata": {
        "id": "LnhxoQoCqq43"
      },
      "execution_count": null,
      "outputs": []
    },
    {
      "cell_type": "code",
      "source": [
        "chatbot()\n"
      ],
      "metadata": {
        "id": "7dEJw1RIqt5u"
      },
      "execution_count": null,
      "outputs": []
    }
  ]
}